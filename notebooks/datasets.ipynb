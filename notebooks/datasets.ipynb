{
 "cells": [
  {
   "cell_type": "code",
   "execution_count": 1,
   "id": "e5bad746-07ca-44ee-81ae-a332fa6391a8",
   "metadata": {},
   "outputs": [],
   "source": [
    "%reload_ext autoreload\n",
    "%reload_ext blackcellmagic\n",
    "%autoreload 2\n",
    "%config InlineBackend.figure_format='retina'\n",
    "%config InlineBackend.figure_format='svg'"
   ]
  },
  {
   "cell_type": "code",
   "execution_count": 2,
   "id": "43acf192-0c12-4e89-9ea7-fd02bdf747bd",
   "metadata": {},
   "outputs": [],
   "source": [
    "import os\n",
    "import seaborn as sns\n",
    "import matplotlib.pyplot as plt\n",
    "import numpy as np\n",
    "import pandas as pd\n",
    "import glob\n",
    "import re\n",
    "\n",
    "import sys\n",
    "\n",
    "sys.path.extend([\"../bpr\", \"../\"])\n",
    "\n",
    "from train_simple import train_bpr, RandomSampler\n",
    "from functools import partial\n",
    "from kutils import (\n",
    "    load_amazon_electronics,\n",
    "    load_citeulike,\n",
    "    load_mind,\n",
    "    load_ml100k,\n",
    "    load_ml1m,\n",
    "    load_tripadvisor,\n",
    "    load_yelp,\n",
    "    trim\n",
    ")"
   ]
  },
  {
   "cell_type": "code",
   "execution_count": 3,
   "id": "976f879f-068d-4fbe-85a3-9dabd05abe58",
   "metadata": {},
   "outputs": [],
   "source": [
    "\n",
    "def print_stats(df):\n",
    "    n_interactions = len(df)\n",
    "    n_items = df[\"item_id\"].nunique()\n",
    "    n_users = df[\"user_id\"].nunique()\n",
    "    density = 100 * n_interactions / (n_users * n_items)\n",
    "\n",
    "    print(f\"{'Interactions':<15}: {n_interactions:>10,}\")\n",
    "    print(f\"{'Users':<15}: {n_users:>10,}\")\n",
    "    print(f\"{'Items':<15}: {n_items:>10,}\")\n",
    "    print(f\"{'Density':<15}: {density:>10.4f}\")\n",
    "\n",
    "\n",
    "loaders = {\n",
    "    \"amazon\": load_amazon_electronics,\n",
    "#     \"citeulike\": load_citeulike,\n",
    "    \"mind\": load_mind,\n",
    "    \"ml-1m\": load_ml1m,\n",
    "    \"ml100k\": load_ml100k,\n",
    "    \"tripadvisor\": load_tripadvisor,\n",
    "    \"yelp\": load_yelp\n",
    "}\n",
    "paths = {\n",
    "    \"amazon\": \"../data/amazon/amazon-electronics.csv\",\n",
    "#     \"citeulike\": \"../data/citeulike/mult.dat\",\n",
    "    \"mind\": \"../data/mind/behaviors.tsv\",\n",
    "    \"ml-1m\": \"../data/ml-1m/ratings.dat\",\n",
    "    \"ml100k\": \"../data/ml-100k/u.data\",\n",
    "    \"tripadvisor\": \"../data/tripadvisor/tripadvisor.csv\",\n",
    "    \"yelp\": \"../data/yelp/yelp.csv\",\n",
    "}"
   ]
  },
  {
   "cell_type": "code",
   "execution_count": 4,
   "id": "430d93ee-9d04-4509-a504-d7a51a58af3a",
   "metadata": {},
   "outputs": [
    {
     "name": "stdout",
     "output_type": "stream",
     "text": [
      "AMAZON\n",
      "Interactions   :  1,089,763\n",
      "Users          :     63,175\n",
      "Items          :    193,120\n",
      "Density        :     0.0089\n",
      "\n",
      "MIND\n",
      "Interactions   :    798,330\n",
      "Users          :     26,938\n",
      "Items          :     31,846\n",
      "Density        :     0.0931\n",
      "\n",
      "ML-1M\n",
      "Interactions   :  1,000,209\n",
      "Users          :      6,040\n",
      "Items          :      3,706\n",
      "Density        :     4.4684\n",
      "\n",
      "ML100K\n",
      "Interactions   :    100,000\n",
      "Users          :        943\n",
      "Items          :      1,682\n",
      "Density        :     6.3047\n",
      "\n",
      "TRIPADVISOR\n",
      "Interactions   :      3,312\n",
      "Users          :        278\n",
      "Items          :      1,141\n",
      "Density        :     1.0441\n",
      "\n",
      "YELP\n",
      "Interactions   :     44,022\n",
      "Users          :      2,398\n",
      "Items          :      8,147\n",
      "Density        :     0.2253\n",
      "\n"
     ]
    }
   ],
   "source": [
    "for dname, path in paths.items():\n",
    "    try:\n",
    "        print(dname.upper())\n",
    "        df = loaders[dname](path)\n",
    "        subset = trim(df, copy=False)\n",
    "        print_stats(subset)\n",
    "        print()\n",
    "    except KeyError:\n",
    "        print('No loader for %s' % dname)"
   ]
  },
  {
   "cell_type": "code",
   "execution_count": null,
   "id": "a9ac033b-3be3-41ca-9954-60c56b902c83",
   "metadata": {},
   "outputs": [],
   "source": []
  },
  {
   "cell_type": "code",
   "execution_count": null,
   "id": "50c02cce-ee62-4703-943f-6d9c13aaaaa3",
   "metadata": {},
   "outputs": [],
   "source": []
  }
 ],
 "metadata": {
  "kernelspec": {
   "display_name": "Python 3",
   "language": "python",
   "name": "python3"
  },
  "language_info": {
   "codemirror_mode": {
    "name": "ipython",
    "version": 3
   },
   "file_extension": ".py",
   "mimetype": "text/x-python",
   "name": "python",
   "nbconvert_exporter": "python",
   "pygments_lexer": "ipython3",
   "version": "3.8.8"
  }
 },
 "nbformat": 4,
 "nbformat_minor": 5
}
