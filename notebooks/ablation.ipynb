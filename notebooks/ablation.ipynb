{
 "cells": [
  {
   "cell_type": "code",
   "execution_count": 1,
   "id": "cc0b86b3-2a91-4897-b530-baed0e34a78d",
   "metadata": {},
   "outputs": [],
   "source": [
    "%reload_ext blackcellmagic\n",
    "%reload_ext autoreload\n",
    "%autoreload 2"
   ]
  },
  {
   "cell_type": "code",
   "execution_count": 2,
   "id": "2d8d1bd3-8a59-414e-94dc-0d602089af9c",
   "metadata": {},
   "outputs": [],
   "source": [
    "import matplotlib.pyplot as plt\n",
    "import seaborn as sns\n",
    "import pandas as pd\n",
    "import numpy as np"
   ]
  },
  {
   "cell_type": "code",
   "execution_count": 3,
   "id": "50d52d3e-1237-47f1-b931-df6826fef4fe",
   "metadata": {},
   "outputs": [],
   "source": [
    "data_r = '../data/wandb_export_2021-04-28T14_50_41.922+01_00.csv'\n",
    "data_p = '../data/wandb_export_2021-04-28T15_16_55.797+01_00.csv'"
   ]
  },
  {
   "cell_type": "code",
   "execution_count": 4,
   "id": "2e76af3e-1eed-4e0f-9b2f-0cf48a491898",
   "metadata": {},
   "outputs": [],
   "source": [
    "data_df = pd.read_csv(data_r)\n",
    "data_df.columns = [c.replace(\"Name: ml100k-bpr-\", \"\").strip() for c in data_df.columns]"
   ]
  },
  {
   "cell_type": "code",
   "execution_count": 5,
   "id": "b610ede7-d9dc-49ee-9b88-8c2bd8543877",
   "metadata": {},
   "outputs": [],
   "source": [
    "data_df.columns = [\n",
    "    c.replace(\" - recall\", \"\")\n",
    "    .replace(\" - precision\", \"\")\n",
    "    .replace(\"__\", \"_\")\n",
    "    .replace(\"random\", \"SGD\")\n",
    "    .replace(\"sim\", \"SIM\")\n",
    "    .replace('MAX', 'max')\n",
    "    .replace('MIN', 'min')\n",
    "    .replace('rb', 'RB')\n",
    "    .replace('popularity-default', 'POP')\n",
    "    .replace('dual2', 'RBSIM')\n",
    "    .replace('dual3', 'RBSIMEx')\n",
    "    for c in data_df.columns\n",
    "]\n",
    "\n",
    "if \"Step\" in data_df.columns:\n",
    "    data_df.drop(\"Step\", axis=\"columns\", inplace=True)"
   ]
  },
  {
   "cell_type": "code",
   "execution_count": 6,
   "id": "17249506-b251-41ff-91fd-a9ff03f1f644",
   "metadata": {},
   "outputs": [
    {
     "data": {
      "text/html": [
       "<div>\n",
       "<style scoped>\n",
       "    .dataframe tbody tr th:only-of-type {\n",
       "        vertical-align: middle;\n",
       "    }\n",
       "\n",
       "    .dataframe tbody tr th {\n",
       "        vertical-align: top;\n",
       "    }\n",
       "\n",
       "    .dataframe thead th {\n",
       "        text-align: right;\n",
       "    }\n",
       "</style>\n",
       "<table border=\"1\" class=\"dataframe\">\n",
       "  <thead>\n",
       "    <tr style=\"text-align: right;\">\n",
       "      <th></th>\n",
       "      <th>0</th>\n",
       "      <th>1</th>\n",
       "      <th>2</th>\n",
       "      <th>3</th>\n",
       "      <th>4</th>\n",
       "    </tr>\n",
       "  </thead>\n",
       "  <tbody>\n",
       "    <tr>\n",
       "      <th>RBSIMEx</th>\n",
       "      <td>0.007112</td>\n",
       "      <td>0.011179</td>\n",
       "      <td>0.024382</td>\n",
       "      <td>0.047375</td>\n",
       "      <td>0.079957</td>\n",
       "    </tr>\n",
       "    <tr>\n",
       "      <th>RBSIMEx_min</th>\n",
       "      <td>0.005673</td>\n",
       "      <td>0.010342</td>\n",
       "      <td>0.024148</td>\n",
       "      <td>0.045534</td>\n",
       "      <td>0.078367</td>\n",
       "    </tr>\n",
       "    <tr>\n",
       "      <th>RBSIMEx_max</th>\n",
       "      <td>0.007832</td>\n",
       "      <td>0.011597</td>\n",
       "      <td>0.024851</td>\n",
       "      <td>0.048296</td>\n",
       "      <td>0.083137</td>\n",
       "    </tr>\n",
       "    <tr>\n",
       "      <th>RBSIM</th>\n",
       "      <td>0.006137</td>\n",
       "      <td>0.011296</td>\n",
       "      <td>0.024985</td>\n",
       "      <td>0.046154</td>\n",
       "      <td>0.080911</td>\n",
       "    </tr>\n",
       "    <tr>\n",
       "      <th>RBSIM_min</th>\n",
       "      <td>0.005573</td>\n",
       "      <td>0.011195</td>\n",
       "      <td>0.024148</td>\n",
       "      <td>0.045083</td>\n",
       "      <td>0.078367</td>\n",
       "    </tr>\n",
       "    <tr>\n",
       "      <th>RBSIM_max</th>\n",
       "      <td>0.007832</td>\n",
       "      <td>0.011597</td>\n",
       "      <td>0.025403</td>\n",
       "      <td>0.048296</td>\n",
       "      <td>0.082183</td>\n",
       "    </tr>\n",
       "    <tr>\n",
       "      <th>SGD</th>\n",
       "      <td>0.008233</td>\n",
       "      <td>0.013354</td>\n",
       "      <td>0.044731</td>\n",
       "      <td>0.076008</td>\n",
       "      <td>0.074954</td>\n",
       "    </tr>\n",
       "    <tr>\n",
       "      <th>SGD_min</th>\n",
       "      <td>0.008233</td>\n",
       "      <td>0.013354</td>\n",
       "      <td>0.044731</td>\n",
       "      <td>0.076008</td>\n",
       "      <td>0.074954</td>\n",
       "    </tr>\n",
       "    <tr>\n",
       "      <th>SGD_max</th>\n",
       "      <td>0.008233</td>\n",
       "      <td>0.013354</td>\n",
       "      <td>0.044731</td>\n",
       "      <td>0.076008</td>\n",
       "      <td>0.074954</td>\n",
       "    </tr>\n",
       "    <tr>\n",
       "      <th>SIM</th>\n",
       "      <td>0.005824</td>\n",
       "      <td>0.006627</td>\n",
       "      <td>0.010944</td>\n",
       "      <td>0.039309</td>\n",
       "      <td>0.078819</td>\n",
       "    </tr>\n",
       "    <tr>\n",
       "      <th>SIM_min</th>\n",
       "      <td>0.005824</td>\n",
       "      <td>0.006627</td>\n",
       "      <td>0.010944</td>\n",
       "      <td>0.039309</td>\n",
       "      <td>0.078819</td>\n",
       "    </tr>\n",
       "    <tr>\n",
       "      <th>SIM_max</th>\n",
       "      <td>0.005824</td>\n",
       "      <td>0.006627</td>\n",
       "      <td>0.010944</td>\n",
       "      <td>0.039309</td>\n",
       "      <td>0.078819</td>\n",
       "    </tr>\n",
       "    <tr>\n",
       "      <th>RB</th>\n",
       "      <td>0.007279</td>\n",
       "      <td>0.025503</td>\n",
       "      <td>0.050856</td>\n",
       "      <td>0.078167</td>\n",
       "      <td>0.098549</td>\n",
       "    </tr>\n",
       "    <tr>\n",
       "      <th>RB_min</th>\n",
       "      <td>0.007279</td>\n",
       "      <td>0.025503</td>\n",
       "      <td>0.050856</td>\n",
       "      <td>0.078167</td>\n",
       "      <td>0.098549</td>\n",
       "    </tr>\n",
       "    <tr>\n",
       "      <th>RB_max</th>\n",
       "      <td>0.007279</td>\n",
       "      <td>0.025503</td>\n",
       "      <td>0.050856</td>\n",
       "      <td>0.078167</td>\n",
       "      <td>0.098549</td>\n",
       "    </tr>\n",
       "    <tr>\n",
       "      <th>POP</th>\n",
       "      <td>0.005623</td>\n",
       "      <td>0.006878</td>\n",
       "      <td>0.017220</td>\n",
       "      <td>0.057834</td>\n",
       "      <td>0.084291</td>\n",
       "    </tr>\n",
       "    <tr>\n",
       "      <th>POP_min</th>\n",
       "      <td>0.005623</td>\n",
       "      <td>0.006878</td>\n",
       "      <td>0.017220</td>\n",
       "      <td>0.057834</td>\n",
       "      <td>0.084291</td>\n",
       "    </tr>\n",
       "    <tr>\n",
       "      <th>POP_max</th>\n",
       "      <td>0.005623</td>\n",
       "      <td>0.006878</td>\n",
       "      <td>0.017220</td>\n",
       "      <td>0.057834</td>\n",
       "      <td>0.084291</td>\n",
       "    </tr>\n",
       "  </tbody>\n",
       "</table>\n",
       "</div>"
      ],
      "text/plain": [
       "                    0         1         2         3         4\n",
       "RBSIMEx      0.007112  0.011179  0.024382  0.047375  0.079957\n",
       "RBSIMEx_min  0.005673  0.010342  0.024148  0.045534  0.078367\n",
       "RBSIMEx_max  0.007832  0.011597  0.024851  0.048296  0.083137\n",
       "RBSIM        0.006137  0.011296  0.024985  0.046154  0.080911\n",
       "RBSIM_min    0.005573  0.011195  0.024148  0.045083  0.078367\n",
       "RBSIM_max    0.007832  0.011597  0.025403  0.048296  0.082183\n",
       "SGD          0.008233  0.013354  0.044731  0.076008  0.074954\n",
       "SGD_min      0.008233  0.013354  0.044731  0.076008  0.074954\n",
       "SGD_max      0.008233  0.013354  0.044731  0.076008  0.074954\n",
       "SIM          0.005824  0.006627  0.010944  0.039309  0.078819\n",
       "SIM_min      0.005824  0.006627  0.010944  0.039309  0.078819\n",
       "SIM_max      0.005824  0.006627  0.010944  0.039309  0.078819\n",
       "RB           0.007279  0.025503  0.050856  0.078167  0.098549\n",
       "RB_min       0.007279  0.025503  0.050856  0.078167  0.098549\n",
       "RB_max       0.007279  0.025503  0.050856  0.078167  0.098549\n",
       "POP          0.005623  0.006878  0.017220  0.057834  0.084291\n",
       "POP_min      0.005623  0.006878  0.017220  0.057834  0.084291\n",
       "POP_max      0.005623  0.006878  0.017220  0.057834  0.084291"
      ]
     },
     "execution_count": 6,
     "metadata": {},
     "output_type": "execute_result"
    }
   ],
   "source": [
    "data_df.head().T"
   ]
  },
  {
   "cell_type": "code",
   "execution_count": 7,
   "id": "3a97edb5-ba43-4fc2-8921-81765241b5ca",
   "metadata": {},
   "outputs": [],
   "source": [
    "best = data_df[[c for c in data_df.columns if 'max' in c]].loc[99].sort_values().to_dict()"
   ]
  },
  {
   "cell_type": "code",
   "execution_count": 8,
   "id": "e7becb6a-7770-4f69-aac1-157ea151d82d",
   "metadata": {},
   "outputs": [
    {
     "data": {
      "text/plain": [
       "{'POP_max': 0.1466439078266981,\n",
       " 'SIM_max': 0.1580902655755811,\n",
       " 'SGD_max': 0.1607510417189618,\n",
       " 'RB_max': 0.1607510417189618,\n",
       " 'RBSIMEx_max': 0.1631608012450424,\n",
       " 'RBSIM_max': 0.1646166976253828}"
      ]
     },
     "execution_count": 8,
     "metadata": {},
     "output_type": "execute_result"
    }
   ],
   "source": [
    "best"
   ]
  },
  {
   "cell_type": "code",
   "execution_count": 9,
   "id": "dddf72bc-627d-48f6-b607-20bb85e3c38b",
   "metadata": {},
   "outputs": [],
   "source": [
    "best_epoch = {}\n",
    "for algo, best_val in best.items():\n",
    "    values = data_df[algo].sort_index().values\n",
    "    best_epoch[algo] = np.argwhere(values ==best_val).reshape(-1).min()"
   ]
  },
  {
   "cell_type": "code",
   "execution_count": 10,
   "id": "a3ede8bb-7cb7-4664-b21d-d7ff9512f468",
   "metadata": {},
   "outputs": [
    {
     "data": {
      "text/plain": [
       "{'POP_max': 43,\n",
       " 'SIM_max': 99,\n",
       " 'SGD_max': 99,\n",
       " 'RB_max': 99,\n",
       " 'RBSIMEx_max': 81,\n",
       " 'RBSIM_max': 86}"
      ]
     },
     "execution_count": 10,
     "metadata": {},
     "output_type": "execute_result"
    }
   ],
   "source": [
    "best_epoch"
   ]
  },
  {
   "cell_type": "code",
   "execution_count": 11,
   "id": "7777ad9c-f450-4834-969e-1044932f4aa2",
   "metadata": {},
   "outputs": [
    {
     "data": {
      "text/plain": [
       "array([8, 6, 7, 4, 0, 2, 1, 5, 9, 3])"
      ]
     },
     "execution_count": 11,
     "metadata": {},
     "output_type": "execute_result"
    }
   ],
   "source": [
    "a = np.arange(10)\n",
    "indices = np.random.choice(a, size=len(a), replace=False)\n",
    "a = np.copy(a[indices])\n",
    "a"
   ]
  },
  {
   "cell_type": "code",
   "execution_count": 12,
   "id": "0d249fc3-f380-4b8f-b315-6ca39c89ebe3",
   "metadata": {},
   "outputs": [
    {
     "data": {
      "text/plain": [
       "array([False, False, False, False, False,  True, False,  True, False,\n",
       "       False])"
      ]
     },
     "execution_count": 12,
     "metadata": {},
     "output_type": "execute_result"
    }
   ],
   "source": [
    "np.isin(a, [2, 5])"
   ]
  },
  {
   "cell_type": "code",
   "execution_count": 18,
   "id": "8819bca3-d3b0-4ecc-ac3f-8f85a8565efa",
   "metadata": {},
   "outputs": [],
   "source": [
    "b = np.argwhere(np.isin(a, [2, 5])).reshape(-1)"
   ]
  },
  {
   "cell_type": "code",
   "execution_count": 21,
   "id": "47ee30ad-cdf0-49bf-877b-602f929f7ceb",
   "metadata": {},
   "outputs": [
    {
     "data": {
      "text/plain": [
       "0.6716720638937509"
      ]
     },
     "execution_count": 21,
     "metadata": {},
     "output_type": "execute_result"
    }
   ],
   "source": [
    "np.sum(np.log(2)/np.log(b + 2))"
   ]
  },
  {
   "cell_type": "code",
   "execution_count": null,
   "id": "309e549d-c6c7-4c69-b1c1-3e0c2f9c106d",
   "metadata": {},
   "outputs": [],
   "source": []
  }
 ],
 "metadata": {
  "kernelspec": {
   "display_name": "Python 3",
   "language": "python",
   "name": "python3"
  },
  "language_info": {
   "codemirror_mode": {
    "name": "ipython",
    "version": 3
   },
   "file_extension": ".py",
   "mimetype": "text/x-python",
   "name": "python",
   "nbconvert_exporter": "python",
   "pygments_lexer": "ipython3",
   "version": "3.8.8"
  }
 },
 "nbformat": 4,
 "nbformat_minor": 5
}
