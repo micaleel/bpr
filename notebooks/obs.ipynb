{
 "cells": [
  {
   "cell_type": "markdown",
   "metadata": {},
   "source": [
    "# Online Batch Selection for Faster Training of Neural Network"
   ]
  },
  {
   "cell_type": "code",
   "execution_count": 1,
   "metadata": {},
   "outputs": [],
   "source": [
    "%reload_ext blackcellmagic"
   ]
  },
  {
   "cell_type": "code",
   "execution_count": 40,
   "metadata": {},
   "outputs": [],
   "source": [
    "from attr import dataclass\n",
    "from bpr import utils\n",
    "from bpr import utils as bpr_utils\n",
    "from bpr.bpr import bpr_update\n",
    "from pathlib import Path\n",
    "from scipy import sparse\n",
    "from scipy.sparse import coo_matrix\n",
    "from typing import Dict, List\n",
    "import bisect\n",
    "import math\n",
    "import matplotlib.pyplot as plt\n",
    "import numpy as np\n",
    "import os\n",
    "import pandas as pd\n",
    "import random"
   ]
  },
  {
   "cell_type": "code",
   "execution_count": 41,
   "metadata": {},
   "outputs": [],
   "source": [
    "seed = 42\n",
    "\n",
    "os.environ[\"PYTHONHASHSEED\"] = str(seed)\n",
    "np.random.seed(seed)\n",
    "random.seed(seed)"
   ]
  },
  {
   "cell_type": "code",
   "execution_count": 42,
   "metadata": {},
   "outputs": [
    {
     "name": "stdout",
     "output_type": "stream",
     "text": [
      "CPU times: user 22.2 ms, sys: 10 ms, total: 32.2 ms\n",
      "Wall time: 63 ms\n"
     ]
    }
   ],
   "source": [
    "%%time\n",
    "\n",
    "# Load data\n",
    "\n",
    "ratings_df = pd.read_csv('../data/ml-100k/u.data', sep='\\t', names=['user_id', 'item_id', 'rating', 'timestamp'])\n",
    "ratings_df = ratings_df[['user_id', 'item_id', 'rating']]\n",
    "for column in ['user_id', 'item_id']:\n",
    "    ratings_df[column] -= 1"
   ]
  },
  {
   "cell_type": "code",
   "execution_count": 43,
   "metadata": {},
   "outputs": [
    {
     "name": "stdout",
     "output_type": "stream",
     "text": [
      "CPU times: user 6.44 s, sys: 100 ms, total: 6.54 s\n",
      "Wall time: 6.56 s\n"
     ]
    }
   ],
   "source": [
    "%%time\n",
    "# Split data\n",
    "\n",
    "train_df, test_df = bpr_utils.train_test_split(df=ratings_df, loo=True)\n",
    "sampler = bpr_utils.NegativeSampler(item_ids=ratings_df[\"item_id\"].unique()).fit(\n",
    "    train=train_df, test=test_df\n",
    ")\n",
    "train_df = sampler.transform(train_df, train=True, size=5)\n",
    "test_df = sampler.transform(test_df, train=False, size=50)"
   ]
  },
  {
   "cell_type": "code",
   "execution_count": 36,
   "metadata": {},
   "outputs": [],
   "source": [
    "@dataclass\n",
    "class BatchSelector:\n",
    "    pressure_begin: float = 100\n",
    "    pressure_final: float = 100\n",
    "    n_samples: int = 0\n",
    "    n_epochs: int = 0\n",
    "    batch_size: int = 0\n",
    "    c: int = 0\n",
    "    c_e: int = 0\n",
    "    c_s: int = 0\n",
    "    loss_idxs: List[Optional[str]] = []\n",
    "    loss_vals: np.ndarray = np.zeros(n_samples)\n",
    "    probs: np.ndarray = np.zeros(n_samples)  # selection probabilities\n",
    "    probs_cumsum: np.ndarray = np.zeros(n_samples)  # cumulative selection probabilities\n",
    "    t_s: int = 0  # period of sorting\n",
    "\n",
    "    def __attrs_post_init__(self):\n",
    "        print(\"In post_init\")\n",
    "        self.loss_idxs = [None] * self.n_samples\n",
    "        self.loss_vals = np.zeros(self.n_samples)\n",
    "\n",
    "    def __call__(self):\n",
    "        if self.c == 0:\n",
    "            # Line 3 of Algorithm 3\n",
    "            self.c_e = -1 * self.n_samples\n",
    "            self.c_s = 0\n",
    "\n",
    "        if self.c - self.c_e > self.n_samples:\n",
    "            # recompute selection probabilities, once per epoch\n",
    "            self.c_e = self.c\n",
    "            epoch = self.c_e / self.n_samples\n",
    "\n",
    "            # compute s_e (pressure_e) using Eq 5\n",
    "            pressure_ratio = math.log(self.pressure_final / self.pressure_begin)\n",
    "            pressure_coeff = math.exp(pressure_ratio / self.n_epochs)\n",
    "            pressure = self.pressure_begin * math.pow(pressure_coeff, epoch)\n",
    "\n",
    "            # compute p_i (probabilities) using Eq 4\n",
    "            prob_coeff = math.exp(math.log(pressure) / self.n_samples)\n",
    "            self.probs[0] = 1.0\n",
    "            for i in range(1, self.n_samples):\n",
    "                self.probs[i] = self.probs[i - 1] / prob_coeff\n",
    "                # This commented out code should be correct implementation as per\n",
    "                # the description on the paper. However, in the paper's codebase,\n",
    "                # the authors left out raising the power.\n",
    "                # self.probs[i] = math.pow(self.probs[i - 1]/prob_coeff, i)\n",
    "\n",
    "            self.probs = self.probs / self.probs.sum()\n",
    "            self.probs_cumsum = np.cumsum(self.probs)\n",
    "\n",
    "        if self.c - self.c_s > self.t_s:\n",
    "            # sort data points w.r.t the latest known loss\n",
    "            self.c_s = self.c\n",
    "            sorted_by_vals = np.argsort(self.loss_vals)[::-1]\n",
    "            self.loss_idxs = [self.loss_idx[i] for i in sorted_by_vals]\n",
    "            self.loss_vals = self.loss_vals[sorted_by_vals]\n",
    "\n",
    "        sampled_idxs = []\n",
    "        while len(sampled_idxs) < self.batch_size:\n",
    "            r = min(random.random(), self.probs_cumsum[-1])\n",
    "            index = bisect.bisect_right(self.probs_cumsum, r)\n",
    "            sampled_idxs.append(index)\n",
    "        return sampled_idxs\n"
   ]
  },
  {
   "cell_type": "code",
   "execution_count": 37,
   "metadata": {},
   "outputs": [
    {
     "name": "stdout",
     "output_type": "stream",
     "text": [
      "In post_init\n"
     ]
    }
   ],
   "source": [
    "selector = BatchSelector(n_samples=4)"
   ]
  },
  {
   "cell_type": "code",
   "execution_count": 38,
   "metadata": {},
   "outputs": [
    {
     "data": {
      "text/plain": [
       "[None, None, None, None]"
      ]
     },
     "execution_count": 38,
     "metadata": {},
     "output_type": "execute_result"
    }
   ],
   "source": [
    "selector.loss_idxs"
   ]
  },
  {
   "cell_type": "code",
   "execution_count": 39,
   "metadata": {},
   "outputs": [
    {
     "data": {
      "text/plain": [
       "[]"
      ]
     },
     "execution_count": 39,
     "metadata": {},
     "output_type": "execute_result"
    }
   ],
   "source": [
    "selector()"
   ]
  },
  {
   "cell_type": "code",
   "execution_count": null,
   "metadata": {},
   "outputs": [],
   "source": [
    "# probs = np.random.random(10)\n",
    "# print(probs)\n",
    "# batch_size = int(0.4 * probs.shape[0])\n",
    "# probs = probs/probs.sum()\n",
    "# print(batch_size, 'batch_size')\n",
    "# probs\n",
    "\n",
    "# Z = np.cumsum(probs)\n",
    "# print(Z)\n",
    "\n",
    "# indexes = []\n",
    "# print(Z[-1])\n",
    "# for i in range(probs.shape[0]):\n",
    "#     r = min(random.random(), Z[-1])\n",
    "\n",
    "#     index = bisect.bisect_right(Z, r)\n",
    "#     indexes.append(index)\n",
    "#     print(\"i={:>2} | r={:.4f} | index={:>2}\".format(i, r, index))\n",
    "#     if len(set(indexes)) > batch_size:\n",
    "#         print('breaking')\n",
    "#         break\n",
    "\n",
    "# print(set(indexes))"
   ]
  },
  {
   "cell_type": "code",
   "execution_count": null,
   "metadata": {},
   "outputs": [],
   "source": []
  },
  {
   "cell_type": "code",
   "execution_count": null,
   "metadata": {},
   "outputs": [],
   "source": []
  }
 ],
 "metadata": {
  "kernelspec": {
   "display_name": "Python 3",
   "language": "python",
   "name": "python3"
  },
  "language_info": {
   "codemirror_mode": {
    "name": "ipython",
    "version": 3
   },
   "file_extension": ".py",
   "mimetype": "text/x-python",
   "name": "python",
   "nbconvert_exporter": "python",
   "pygments_lexer": "ipython3",
   "version": "3.8.3"
  }
 },
 "nbformat": 4,
 "nbformat_minor": 4
}
