{
 "cells": [
  {
   "cell_type": "code",
   "execution_count": 1,
   "id": "stretch-eugene",
   "metadata": {},
   "outputs": [],
   "source": [
    "%load_ext blackcellmagic\n",
    "%load_ext autoreload\n",
    "%autoreload 2\n",
    "%config InlineBackend.figure_format = 'retina'"
   ]
  },
  {
   "cell_type": "code",
   "execution_count": 2,
   "id": "spiritual-favorite",
   "metadata": {},
   "outputs": [],
   "source": [
    "import os\n",
    "import sys\n",
    "\n",
    "source_dir = os.path.realpath(\"../bpr\")\n",
    "sys.path.append(source_dir)\n",
    "\n",
    "import pandas as pd\n",
    "import matplotlib.pyplot as plt\n",
    "import numpy as np\n",
    "from scipy.sparse import dok_matrix, csr_matrix\n",
    "from scipy import sparse\n",
    "from sklearn.preprocessing import LabelEncoder\n",
    "from typing import Tuple"
   ]
  },
  {
   "cell_type": "markdown",
   "id": "silver-format",
   "metadata": {},
   "source": [
    "## Load data"
   ]
  },
  {
   "cell_type": "code",
   "execution_count": 3,
   "id": "editorial-rebecca",
   "metadata": {},
   "outputs": [],
   "source": [
    "DATA_DIR = \"../data\"\n",
    "\n",
    "\n",
    "def load_ml100k(data_dir) -> csr_matrix:\n",
    "    path = os.path.join(DATA_DIR, \"ml-100k\", \"u.data\")\n",
    "    df = pd.read_csv(path, names=[\"user_id\", \"item_id\", \"rating\", \"dt\"], sep=\"\\t\")\n",
    "    df[\"user_id\"] = LabelEncoder().fit_transform(df[\"user_id\"])\n",
    "    df[\"item_id\"] = LabelEncoder().fit_transform(df[\"item_id\"])\n",
    "    ratings = csr_matrix((df[\"rating\"], (df[\"user_id\"], df[\"item_id\"])), dtype=np.int)\n",
    "    return ratings"
   ]
  },
  {
   "cell_type": "code",
   "execution_count": 4,
   "id": "injured-seventh",
   "metadata": {},
   "outputs": [],
   "source": [
    "ratings = load_ml100k(DATA_DIR)"
   ]
  },
  {
   "cell_type": "code",
   "execution_count": 5,
   "id": "random-husband",
   "metadata": {},
   "outputs": [],
   "source": [
    "# ui_matrix = sparse.csr_matrix(train_matrix)\n",
    "# print(ui_matrix.shape, ui_matrix.indptr.shape)"
   ]
  },
  {
   "cell_type": "markdown",
   "id": "classical-profit",
   "metadata": {},
   "source": [
    "## Train-test split"
   ]
  },
  {
   "cell_type": "code",
   "execution_count": 6,
   "id": "durable-tolerance",
   "metadata": {},
   "outputs": [],
   "source": [
    "def train_test_split(ratings: csr_matrix, train_ratio=0.8) -> Tuple[csr_matrix, csr_matrix]:\n",
    "    train = dok_matrix(ratings.shape, dtype=np.int)\n",
    "    test = dok_matrix(ratings.shape, dtype=np.int)\n",
    "    for user, row in enumerate(ratings):\n",
    "        n_train = int(train_ratio * row.indices.shape[0])\n",
    "        train[user, row.indices[:n_train]] = 1\n",
    "        test[user, row.indices[n_train:]] = 1\n",
    "\n",
    "    return train.tocsr(), test.tocsr()"
   ]
  },
  {
   "cell_type": "code",
   "execution_count": 7,
   "id": "close-chosen",
   "metadata": {},
   "outputs": [],
   "source": [
    "train, test = train_test_split(ratings)"
   ]
  },
  {
   "cell_type": "markdown",
   "id": "electrical-valentine",
   "metadata": {},
   "source": [
    "## Pairwise similarity"
   ]
  },
  {
   "cell_type": "code",
   "execution_count": 10,
   "id": "sustained-cardiff",
   "metadata": {},
   "outputs": [
    {
     "name": "stdout",
     "output_type": "stream",
     "text": [
      "(943, 943)\n"
     ]
    }
   ],
   "source": [
    "from sklearn.metrics.pairwise import cosine_similarity\n",
    "similarities = cosine_similarity(ratings, dense_output=False)\n",
    "print(similarities.shape)"
   ]
  },
  {
   "cell_type": "code",
   "execution_count": 21,
   "id": "drawn-fishing",
   "metadata": {},
   "outputs": [],
   "source": [
    "from dataclasses import dataclass, field\n",
    "from typing import Any\n",
    "\n",
    "@dataclass\n",
    "class Base:\n",
    "    x: Any = 15.0\n",
    "    y: int = 0\n",
    "    w: str = field(init=False)\n",
    "    \n",
    "    def __post_init__(self):\n",
    "        self.y += 5\n",
    "        self.w = 'win'\n",
    "\n",
    "@dataclass\n",
    "class C(Base):\n",
    "    z: int = 10\n",
    "    x: int = 15\n",
    "    \n",
    "    def __post_init__(self):\n",
    "        self.w = 'won'"
   ]
  },
  {
   "cell_type": "code",
   "execution_count": 22,
   "id": "fitting-girlfriend",
   "metadata": {},
   "outputs": [
    {
     "name": "stdout",
     "output_type": "stream",
     "text": [
      "Base(x=15.0, y=5, w='win')\n",
      "C(x=15, y=0, w='won', z=10)\n"
     ]
    }
   ],
   "source": [
    "print(Base())\n",
    "print(C())"
   ]
  },
  {
   "cell_type": "code",
   "execution_count": null,
   "id": "motivated-paintball",
   "metadata": {},
   "outputs": [],
   "source": []
  },
  {
   "cell_type": "code",
   "execution_count": null,
   "id": "compatible-silver",
   "metadata": {},
   "outputs": [],
   "source": []
  },
  {
   "cell_type": "code",
   "execution_count": null,
   "id": "moved-liechtenstein",
   "metadata": {},
   "outputs": [],
   "source": []
  },
  {
   "cell_type": "code",
   "execution_count": null,
   "id": "ultimate-passion",
   "metadata": {},
   "outputs": [],
   "source": []
  },
  {
   "cell_type": "markdown",
   "id": "prepared-anime",
   "metadata": {},
   "source": [
    "<hr>"
   ]
  },
  {
   "cell_type": "code",
   "execution_count": null,
   "id": "confidential-donna",
   "metadata": {},
   "outputs": [],
   "source": [
    "# # Loop through user profiles.\n",
    "# max_idx = 0\n",
    "# for cur in range(0, ratings.indptr.shape[0] - 1):\n",
    "#     row_start, row_end = ratings.indptr[cur], ratings.indptr[cur + 1]\n",
    "#     indices = ratings.indices[row_start: row_end]\n",
    "#     max_idx = max(max_idx, np.max(indices))\n",
    "# #     print(max_idx)\n",
    "    \n",
    "    \n",
    "# # pos_items = indices[indptr[user]:indptr[user + 1]]\n",
    "# # pos_item = np.random.choice(pos_items)\n",
    "# # neg_item = np.random.choice(n_items)"
   ]
  },
  {
   "cell_type": "code",
   "execution_count": null,
   "id": "chubby-competition",
   "metadata": {},
   "outputs": [],
   "source": []
  }
 ],
 "metadata": {
  "kernelspec": {
   "display_name": "Python 3",
   "language": "python",
   "name": "python3"
  },
  "language_info": {
   "codemirror_mode": {
    "name": "ipython",
    "version": 3
   },
   "file_extension": ".py",
   "mimetype": "text/x-python",
   "name": "python",
   "nbconvert_exporter": "python",
   "pygments_lexer": "ipython3",
   "version": "3.8.5"
  }
 },
 "nbformat": 4,
 "nbformat_minor": 5
}
