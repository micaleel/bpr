{
 "cells": [
  {
   "cell_type": "code",
   "execution_count": 1,
   "id": "547edf6b-6b30-4e8c-bb92-22d5e52f6a91",
   "metadata": {},
   "outputs": [],
   "source": [
    "import matplotlib.pyplot as plt"
   ]
  },
  {
   "cell_type": "code",
   "execution_count": 28,
   "id": "20250ed7-5d8b-4adb-932a-a1c21b426d07",
   "metadata": {},
   "outputs": [],
   "source": [
    "import numpy as np\n",
    "import math\n"
   ]
  },
  {
   "cell_type": "code",
   "execution_count": 29,
   "id": "41953431-eede-4423-9506-3308b3ca8322",
   "metadata": {},
   "outputs": [
    {
     "data": {
      "text/plain": [
       "1.0"
      ]
     },
     "execution_count": 29,
     "metadata": {},
     "output_type": "execute_result"
    }
   ],
   "source": [
    "math.exp(0)"
   ]
  },
  {
   "cell_type": "code",
   "execution_count": 153,
   "id": "bcb50f14-7610-4d09-898d-ce46717fb788",
   "metadata": {},
   "outputs": [],
   "source": [
    "X = np.arange(100)"
   ]
  },
  {
   "cell_type": "code",
   "execution_count": 154,
   "id": "98484ee0-62e7-4a13-9ae3-30cb67f46813",
   "metadata": {},
   "outputs": [
    {
     "data": {
      "text/plain": [
       "<matplotlib.legend.Legend at 0x7f58abd57c70>"
      ]
     },
     "execution_count": 154,
     "metadata": {},
     "output_type": "execute_result"
    },
    {
     "data": {
      "image/png": "[encoded data removed]",
      "text/plain": [
       "<Figure size 432x288 with 1 Axes>"
      ]
     },
     "metadata": {
      "needs_background": "light"
     },
     "output_type": "display_data"
    }
   ],
   "source": [
    "#RND = np.log10(X)/np.log10(max(X))\n",
    "RND = np.exp(-X)\n",
    "SIM = 1- RND\n",
    "plt.plot(RND, label='rnd')\n",
    "plt.plot(SIM, label='sim')\n",
    "plt.axhline(0.5)\n",
    "plt.legend()"
   ]
  },
  {
   "cell_type": "code",
   "execution_count": 156,
   "id": "72587827-cf2f-49f1-8d89-0b4c44025ecf",
   "metadata": {},
   "outputs": [
    {
     "name": "stderr",
     "output_type": "stream",
     "text": [
      "<ipython-input-156-b866fdd43804>:1: RuntimeWarning: divide by zero encountered in log\n",
      "  SIM = np.exp(-1 * np.log(X))\n"
     ]
    },
    {
     "data": {
      "text/plain": [
       "<matplotlib.legend.Legend at 0x7f58ab993bb0>"
      ]
     },
     "execution_count": 156,
     "metadata": {},
     "output_type": "execute_result"
    },
    {
     "data": {
      "image/png": "[encoded data removed]",
      "text/plain": [
       "<Figure size 432x288 with 1 Axes>"
      ]
     },
     "metadata": {
      "needs_background": "light"
     },
     "output_type": "display_data"
    }
   ],
   "source": [
    "SIM = np.exp(-1 * np.log(X))\n",
    "RND = 1 - SIM\n",
    "plt.plot(RND, label='rnd')\n",
    "plt.plot(SIM, label='sim')\n",
    "plt.axhline(0.5)\n",
    "plt.legend()"
   ]
  },
  {
   "cell_type": "code",
   "execution_count": 148,
   "id": "0397d3d3-50cb-4893-a46e-24ac278d6e48",
   "metadata": {},
   "outputs": [
    {
     "data": {
      "text/plain": [
       "1.0041392685158226"
      ]
     },
     "execution_count": 148,
     "metadata": {},
     "output_type": "execute_result"
    }
   ],
   "source": [
    "import math \n",
    "def _coeff(cur_epoch, max_epoch):\n",
    "    return math.log(cur_epoch + 1)/math.log(max_epoch)\n",
    "coeff = _coeff(10, 10)\n",
    "p = coeff + (1 - coeff) * 0.9\n",
    "p"
   ]
  },
  {
   "cell_type": "code",
   "execution_count": 135,
   "id": "f96eef7e-57b0-43d0-b471-32b37c5d8fcb",
   "metadata": {},
   "outputs": [
    {
     "data": {
      "text/plain": [
       "\u001b[0;31mSignature:\u001b[0m \u001b[0mmath\u001b[0m\u001b[0;34m.\u001b[0m\u001b[0mlog1p\u001b[0m\u001b[0;34m(\u001b[0m\u001b[0mx\u001b[0m\u001b[0;34m,\u001b[0m \u001b[0;34m/\u001b[0m\u001b[0;34m)\u001b[0m\u001b[0;34m\u001b[0m\u001b[0;34m\u001b[0m\u001b[0m\n",
       "\u001b[0;31mDocstring:\u001b[0m\n",
       "Return the natural logarithm of 1+x (base e).\n",
       "\n",
       "The result is computed in a way which is accurate for x near zero.\n",
       "\u001b[0;31mType:\u001b[0m      builtin_function_or_method\n"
      ]
     },
     "metadata": {},
     "output_type": "display_data"
    }
   ],
   "source": [
    "math.log1p?"
   ]
  },
  {
   "cell_type": "code",
   "execution_count": null,
   "id": "6fb31692-78bd-48a3-82cc-847c1965daa4",
   "metadata": {},
   "outputs": [],
   "source": []
  }
 ],
 "metadata": {
  "kernelspec": {
   "display_name": "Python 3",
   "language": "python",
   "name": "python3"
  },
  "language_info": {
   "codemirror_mode": {
    "name": "ipython",
    "version": 3
   },
   "file_extension": ".py",
   "mimetype": "text/x-python",
   "name": "python",
   "nbconvert_exporter": "python",
   "pygments_lexer": "ipython3",
   "version": "3.8.8"
  }
 },
 "nbformat": 4,
 "nbformat_minor": 5
}
